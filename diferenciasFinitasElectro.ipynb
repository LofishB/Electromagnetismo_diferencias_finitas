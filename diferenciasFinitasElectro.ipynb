{
 "cells": [
  {
   "cell_type": "markdown",
   "metadata": {},
   "source": [
    "### Diferencias Finitas"
   ]
  },
  {
   "cell_type": "code",
   "execution_count": 98,
   "metadata": {},
   "outputs": [],
   "source": [
    "import numpy as np\n",
    "from numba import jit\n",
    "import matplotlib.pyplot as plt"
   ]
  },
  {
   "cell_type": "markdown",
   "metadata": {},
   "source": [
    "\n",
    "b) Encuentre el potencial eléctrico dentro del cuadrado usando el método de diferencias finitas, considerando una grilla de celdas cuadradas de 0.1 cm de lado. Haga una gráfica donde se indique con diferentes colores como cambia el potencial eléctrico dentro de la caja como una función de las coordenadas x e y."
   ]
  },
  {
   "cell_type": "code",
   "execution_count": 99,
   "metadata": {},
   "outputs": [],
   "source": [
    "h = 0.1\n",
    "@jit\n",
    "def solucionEcuLaplace(dx_dy, condiciones):\n",
    "    malla = np.zeros((dx_dy, dx_dy))\n",
    "    v_0_0, v_0_f, v_f_0, v_f_f = condiciones\n",
    "\n",
    "    malla[0, 1:-1] = v_0_0\n",
    "    malla[-1, 1:-1] = v_0_f\n",
    "    malla[1:-1, 0] = v_f_0\n",
    "    malla[1:-1, -1] = v_f_f\n",
    "\n",
    "    malla[0, 0] = 0\n",
    "    malla[0, -1] = 5\n",
    "    malla[-1, 0] = 0\n",
    "    malla[-1, -1] = 0\n",
    "\n",
    "    convergencia = 0.1\n",
    "    delta_actual = 1\n",
    "\n",
    "    while delta_actual > convergencia:\n",
    "        delta_i_j = 0\n",
    "        for i in range(1, dx_dy - 1):\n",
    "            for j in range(1, dx_dy - 1):\n",
    "                \n",
    "                V_v_c = (malla[j-1][i] + malla[j+1][i] + malla[j][i-1] + malla[j][i+1]) / 4\n",
    "                V_s_c = (malla[j-1][i-1] + malla[j-1][i+1] + malla[j+1][i-1] + malla[j+1][i+1]) / 4\n",
    "                V_i_j = 2/3 * V_v_c + 1/3 * V_s_c\n",
    "\n",
    "                delta_i_j += (V_i_j - malla[j, i]) / V_i_j\n",
    "                malla[j, i] = V_i_j\n",
    "\n",
    "        delta_actual = delta_i_j / ((dx_dy - 2) ** 2)\n",
    "\n",
    "    return malla\n",
    "\n",
    "dx_dy = int(10 / h) \n",
    "condiciones = 5, 0, 0, 0\n",
    "malla = solucionEcuLaplace(dx_dy, condiciones)"
   ]
  },
  {
   "cell_type": "code",
   "execution_count": 100,
   "metadata": {},
   "outputs": [
    {
     "data": {
      "image/png": "[encoded data removed]",
      "text/plain": [
       "<Figure size 432x288 with 2 Axes>"
      ]
     },
     "metadata": {
      "needs_background": "light"
     },
     "output_type": "display_data"
    }
   ],
   "source": [
    "\n",
    "fig, ax = plt.subplots()\n",
    "img = ax.imshow(malla, cmap='viridis')  \n",
    "\n",
    "cbar = plt.colorbar(img, ax=ax)\n",
    "cbar.set_label('Valores') \n",
    "cbar.set_ticks([np.min(malla), np.max(malla)])  \n",
    "\n",
    "ax.set_xlabel(\"x\")\n",
    "ax.set_ylabel(\"y\")\n",
    "\n",
    "plt.savefig(\"potencialElectrico.jpeg\")\n",
    "plt.show()"
   ]
  },
  {
   "cell_type": "markdown",
   "metadata": {},
   "source": [
    "c)  Calcule la diferencia: $\\Delta V = V_{df} − V_{teo}$ para los diferentes puntos de la grilla del punto anterior. Donde $V_{df}$ corresponde al calculo realizado por diferencias finitas y $V_{teo}$ el calculo analítico Indique en que posiciones x, y hay mayor diferencia y dé el valor porcentual de dicha diferencia: $\\frac{\\Delta V}{V_{teo}}$. En cuanto se disminuye la diferencia porcentual si hace una grilla de 0.01 cm?"
   ]
  },
  {
   "cell_type": "code",
   "execution_count": 101,
   "metadata": {},
   "outputs": [
    {
     "name": "stdout",
     "output_type": "stream",
     "text": [
      "En las coordenadas 5.0,8.100000000000007 y posiciones en la grilla 50,19 se tiene una diferencia de 2.7438956864824027, con una diferencia porcentual de 0.8605240833467702\n"
     ]
    }
   ],
   "source": [
    "x = np.arange(0, 10, h)\n",
    "y= np.arange(10, 0, -h)\n",
    "\n",
    "constante = 2 * np.arange(0, 99) + 1\n",
    "constante_pi = constante * np.pi\n",
    "\n",
    "termino1 = (10 * (1 - (-1) ** constante)) / (constante * np.pi * np.sinh(constante_pi))\n",
    "\n",
    "mallaDiferencias = np.zeros((100,100))\n",
    "mallaAnalitica = np.zeros((100,100))\n",
    "\n",
    "diferencia = 0\n",
    "diferenciaPorcentual = 0\n",
    "posiciones = 0,0\n",
    "posiciones_grilla = 0,0\n",
    "\n",
    "for j, y_i in enumerate(y):\n",
    "    for i, x_i in enumerate(x):\n",
    "        \n",
    "        sin_terms = np.sin((constante / 10) * np.pi * x_i) * np.sinh((constante / 10) * np.pi * y_i)\n",
    "        ks = np.sum(termino1 * sin_terms)\n",
    "        \n",
    "        V_teo = ks\n",
    "        V_df= malla[j,i]\n",
    "        \n",
    "        deltaV = np.abs(V_df - V_teo)\n",
    "        \n",
    "        mallaAnalitica[i,j] = ks\n",
    "        mallaDiferencias[i,j] = deltaV\n",
    "        \n",
    "        if deltaV > diferencia:\n",
    "            diferencia = deltaV\n",
    "            posiciones = x_i, y_i\n",
    "            diferenciaPorcentual = deltaV / V_teo\n",
    "            posiciones_grilla = i, j\n",
    "            \n",
    "        \n",
    "resultado = \"En las coordenadas {},{} y posiciones en la grilla {},{} se tiene una diferencia de {}, con una diferencia porcentual de {}\".format(posiciones[0], posiciones[1], posiciones_grilla[0], posiciones_grilla[1], diferencia, diferenciaPorcentual)\n",
    "\n",
    "print(resultado)    \n",
    "\n"
   ]
  },
  {
   "cell_type": "markdown",
   "metadata": {},
   "source": [
    "En cuanto se disminuye la diferencia porcentual si hace una grilla de 0.01 cm?\n",
    "\n",
    "Con h de 0.1 cm, se obtiene una diferencia porcentual de 0.8605240833467702 y con h de 0.01 se obtiene una diferencia porcentual de 0.13781414829305194. \n",
    "\n",
    "con (h = 0.1):   2.7438956864824027 0.8605240833467702 (5.0,19) (50,19)\n",
    "\n",
    "con (h = 0.01): 4.921496274437652 0.9983382316398222 (5.0, 9.930000000000001) (7, 500)\n"
   ]
  }
 ],
 "metadata": {
  "kernelspec": {
   "display_name": "base",
   "language": "python",
   "name": "python3"
  },
  "language_info": {
   "codemirror_mode": {
    "name": "ipython",
    "version": 3
   },
   "file_extension": ".py",
   "mimetype": "text/x-python",
   "name": "python",
   "nbconvert_exporter": "python",
   "pygments_lexer": "ipython3",
   "version": "3.9.7"
  },
  "orig_nbformat": 4
 },
 "nbformat": 4,
 "nbformat_minor": 2
}
